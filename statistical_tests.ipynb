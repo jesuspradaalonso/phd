{
 "cells": [
  {
   "cell_type": "markdown",
   "metadata": {},
   "source": [
    "# Statistical Analysis of tables "
   ]
  },
  {
   "cell_type": "code",
   "execution_count": 1,
   "metadata": {},
   "outputs": [],
   "source": [
    "%matplotlib inline\n",
    "%load_ext autoreload\n",
    "%autoreload 2"
   ]
  },
  {
   "cell_type": "code",
   "execution_count": 3,
   "metadata": {},
   "outputs": [],
   "source": [
    "import numpy as np\n",
    "import pandas as pd\n",
    "import matplotlib.pyplot as plt\n",
    "\n",
    "from scipy.stats import wilcoxon, mannwhitneyu, rankdata\n",
    "\n",
    "from scipy.stats import friedmanchisquare\n",
    "import scipy.stats as ss\n",
    "\n",
    "import scikit_posthocs as sp"
   ]
  },
  {
   "cell_type": "code",
   "execution_count": 4,
   "metadata": {},
   "outputs": [],
   "source": [
    "input_path = '/Users/jesus/Dropbox/PhD/PhD/input/'"
   ]
  },
  {
   "cell_type": "markdown",
   "metadata": {},
   "source": [
    "# Test PhD"
   ]
  },
  {
   "cell_type": "code",
   "execution_count": 53,
   "metadata": {},
   "outputs": [],
   "source": [
    "project = 'exp3'\n",
    "dataset = 'wind'\n",
    "metric = 'errint'"
   ]
  },
  {
   "cell_type": "code",
   "execution_count": 54,
   "metadata": {},
   "outputs": [
    {
     "data": {
      "text/html": [
       "<div>\n",
       "<style scoped>\n",
       "    .dataframe tbody tr th:only-of-type {\n",
       "        vertical-align: middle;\n",
       "    }\n",
       "\n",
       "    .dataframe tbody tr th {\n",
       "        vertical-align: top;\n",
       "    }\n",
       "\n",
       "    .dataframe thead th {\n",
       "        text-align: right;\n",
       "    }\n",
       "</style>\n",
       "<table border=\"1\" class=\"dataframe\">\n",
       "  <thead>\n",
       "    <tr style=\"text-align: right;\">\n",
       "      <th></th>\n",
       "      <th>M_unique</th>\n",
       "      <th>M_k</th>\n",
       "      <th>M_magnitude</th>\n",
       "    </tr>\n",
       "    <tr>\n",
       "      <th>dataset</th>\n",
       "      <th></th>\n",
       "      <th></th>\n",
       "      <th></th>\n",
       "    </tr>\n",
       "  </thead>\n",
       "  <tbody>\n",
       "    <tr>\n",
       "      <th>S1</th>\n",
       "      <td>2.720000</td>\n",
       "      <td>1.340000</td>\n",
       "      <td>1.620000</td>\n",
       "    </tr>\n",
       "    <tr>\n",
       "      <th>S2</th>\n",
       "      <td>2.699430</td>\n",
       "      <td>1.337108</td>\n",
       "      <td>1.591812</td>\n",
       "    </tr>\n",
       "    <tr>\n",
       "      <th>S3</th>\n",
       "      <td>2.747935</td>\n",
       "      <td>1.344550</td>\n",
       "      <td>1.617464</td>\n",
       "    </tr>\n",
       "    <tr>\n",
       "      <th>S4</th>\n",
       "      <td>2.702741</td>\n",
       "      <td>1.338223</td>\n",
       "      <td>1.628381</td>\n",
       "    </tr>\n",
       "    <tr>\n",
       "      <th>S5</th>\n",
       "      <td>2.739580</td>\n",
       "      <td>1.344041</td>\n",
       "      <td>1.615280</td>\n",
       "    </tr>\n",
       "    <tr>\n",
       "      <th>...</th>\n",
       "      <td>...</td>\n",
       "      <td>...</td>\n",
       "      <td>...</td>\n",
       "    </tr>\n",
       "    <tr>\n",
       "      <th>S94</th>\n",
       "      <td>2.689523</td>\n",
       "      <td>1.338398</td>\n",
       "      <td>1.593589</td>\n",
       "    </tr>\n",
       "    <tr>\n",
       "      <th>S95</th>\n",
       "      <td>2.682416</td>\n",
       "      <td>1.342566</td>\n",
       "      <td>1.611366</td>\n",
       "    </tr>\n",
       "    <tr>\n",
       "      <th>S96</th>\n",
       "      <td>2.811698</td>\n",
       "      <td>1.354901</td>\n",
       "      <td>1.629582</td>\n",
       "    </tr>\n",
       "    <tr>\n",
       "      <th>S97</th>\n",
       "      <td>2.745136</td>\n",
       "      <td>1.324879</td>\n",
       "      <td>1.633766</td>\n",
       "    </tr>\n",
       "    <tr>\n",
       "      <th>S98</th>\n",
       "      <td>2.722597</td>\n",
       "      <td>1.352843</td>\n",
       "      <td>1.600345</td>\n",
       "    </tr>\n",
       "  </tbody>\n",
       "</table>\n",
       "<p>97 rows × 3 columns</p>\n",
       "</div>"
      ],
      "text/plain": [
       "         M_unique       M_k  M_magnitude\n",
       "dataset                                 \n",
       "S1       2.720000  1.340000     1.620000\n",
       "S2       2.699430  1.337108     1.591812\n",
       "S3       2.747935  1.344550     1.617464\n",
       "S4       2.702741  1.338223     1.628381\n",
       "S5       2.739580  1.344041     1.615280\n",
       "...           ...       ...          ...\n",
       "S94      2.689523  1.338398     1.593589\n",
       "S95      2.682416  1.342566     1.611366\n",
       "S96      2.811698  1.354901     1.629582\n",
       "S97      2.745136  1.324879     1.633766\n",
       "S98      2.722597  1.352843     1.600345\n",
       "\n",
       "[97 rows x 3 columns]"
      ]
     },
     "execution_count": 54,
     "metadata": {},
     "output_type": "execute_result"
    }
   ],
   "source": [
    "df_class = pd.read_csv(input_path + project + '/' + dataset + '_' + metric + '.csv', sep=';', header=0, index_col=0)\n",
    "df_class"
   ]
  },
  {
   "cell_type": "code",
   "execution_count": 55,
   "metadata": {},
   "outputs": [
    {
     "name": "stdout",
     "output_type": "stream",
     "text": [
      "p_value Friedman =  7.471972337343043e-43\n",
      "---------------------------------------------------------------------------\n",
      "min adj p-value Wilcoxon =  0.0\n",
      "---------------------------------------------------------------------------\n"
     ]
    },
    {
     "data": {
      "text/html": [
       "<div>\n",
       "<style scoped>\n",
       "    .dataframe tbody tr th:only-of-type {\n",
       "        vertical-align: middle;\n",
       "    }\n",
       "\n",
       "    .dataframe tbody tr th {\n",
       "        vertical-align: top;\n",
       "    }\n",
       "\n",
       "    .dataframe thead th {\n",
       "        text-align: right;\n",
       "    }\n",
       "</style>\n",
       "<table border=\"1\" class=\"dataframe\">\n",
       "  <thead>\n",
       "    <tr style=\"text-align: right;\">\n",
       "      <th></th>\n",
       "      <th>1</th>\n",
       "      <th>2</th>\n",
       "      <th>3</th>\n",
       "    </tr>\n",
       "  </thead>\n",
       "  <tbody>\n",
       "    <tr>\n",
       "      <th>1</th>\n",
       "      <td>1.0</td>\n",
       "      <td>0.0</td>\n",
       "      <td>0.0</td>\n",
       "    </tr>\n",
       "    <tr>\n",
       "      <th>2</th>\n",
       "      <td>0.0</td>\n",
       "      <td>1.0</td>\n",
       "      <td>0.0</td>\n",
       "    </tr>\n",
       "    <tr>\n",
       "      <th>3</th>\n",
       "      <td>0.0</td>\n",
       "      <td>0.0</td>\n",
       "      <td>1.0</td>\n",
       "    </tr>\n",
       "  </tbody>\n",
       "</table>\n",
       "</div>"
      ],
      "text/plain": [
       "     1    2    3\n",
       "1  1.0  0.0  0.0\n",
       "2  0.0  1.0  0.0\n",
       "3  0.0  0.0  1.0"
      ]
     },
     "metadata": {},
     "output_type": "display_data"
    }
   ],
   "source": [
    "st, p = friedmanchisquare(*df_class.values.T)\n",
    "wilcoxon = sp.posthoc_wilcoxon(df_class.T.values, p_adjust='holm-sidak')\n",
    "print('p_value Friedman = ', p)  \n",
    "if p > 0.05:\n",
    "    print(\"friedman does NOT detect differences across models\")\n",
    "print(\"---------------------------------------------------------------------------\")\n",
    "p = np.min(np.min(wilcoxon))\n",
    "print('min adj p-value Wilcoxon = ', p)\n",
    "if p > 0.05:\n",
    "    print(\"Wilcoxon does NOT detect differences across models\") \n",
    "print(\"---------------------------------------------------------------------------\")\n",
    "display(np.round(wilcoxon, 2))"
   ]
  },
  {
   "cell_type": "code",
   "execution_count": null,
   "metadata": {},
   "outputs": [],
   "source": []
  }
 ],
 "metadata": {
  "kernelspec": {
   "display_name": "Python 3",
   "language": "python",
   "name": "python3"
  },
  "language_info": {
   "codemirror_mode": {
    "name": "ipython",
    "version": 3
   },
   "file_extension": ".py",
   "mimetype": "text/x-python",
   "name": "python",
   "nbconvert_exporter": "python",
   "pygments_lexer": "ipython3",
   "version": "3.8.5"
  }
 },
 "nbformat": 4,
 "nbformat_minor": 5
}
