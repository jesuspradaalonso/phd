{
 "cells": [
  {
   "cell_type": "markdown",
   "metadata": {},
   "source": [
    "# Statistical Analysis of tables "
   ]
  },
  {
   "cell_type": "code",
   "execution_count": null,
   "metadata": {},
   "outputs": [],
   "source": [
    "%matplotlib inline\n",
    "%load_ext autoreload\n",
    "%autoreload 2"
   ]
  },
  {
   "cell_type": "code",
   "execution_count": null,
   "metadata": {},
   "outputs": [],
   "source": [
    "import numpy as np\n",
    "import pandas as pd\n",
    "import matplotlib.pyplot as plt\n",
    "\n",
    "from scipy.stats import wilcoxon, mannwhitneyu, rankdata\n",
    "\n",
    "from scipy.stats import friedmanchisquare\n",
    "import scipy.stats as ss\n",
    "\n",
    "import scikit_posthocs as sp"
   ]
  },
  {
   "cell_type": "code",
   "execution_count": null,
   "metadata": {},
   "outputs": [],
   "source": [
    "input_path = '/Users/jesus/Dropbox/PhD/PhD/input/'"
   ]
  },
  {
   "cell_type": "markdown",
   "metadata": {},
   "source": [
    "# Test PhD"
   ]
  },
  {
   "cell_type": "code",
   "execution_count": null,
   "metadata": {},
   "outputs": [],
   "source": [
    "project = 'exp3'\n",
    "dataset = 'wind'\n",
    "metric = 'errint'"
   ]
  },
  {
   "cell_type": "code",
   "execution_count": null,
   "metadata": {},
   "outputs": [],
   "source": [
    "df_class = pd.read_csv(input_path + project + '/' + dataset + '_' + metric + '.csv', sep=';', header=0, index_col=0)\n",
    "df_class"
   ]
  },
  {
   "cell_type": "code",
   "execution_count": null,
   "metadata": {},
   "outputs": [],
   "source": [
    "st, p = friedmanchisquare(*df_class.values.T)\n",
    "wilcoxon = sp.posthoc_wilcoxon(df_class.T.values, p_adjust='sidak')\n",
    "print('p_value Friedman = ', p)  \n",
    "if p > 0.05:\n",
    "    print(\"friedman does NOT detect differences across models\")\n",
    "print(\"---------------------------------------------------------------------------\")\n",
    "p = np.min(np.min(wilcoxon))\n",
    "print('min adj p-value Wilcoxon = ', p)\n",
    "if p > 0.05:\n",
    "    print(\"Wilcoxon does NOT detect differences across models\") \n",
    "print(\"---------------------------------------------------------------------------\")\n",
    "display(np.round(wilcoxon, 2))"
   ]
  },
  {
   "cell_type": "code",
   "execution_count": null,
   "metadata": {},
   "outputs": [],
   "source": []
  }
 ],
 "metadata": {
  "kernelspec": {
   "display_name": "Python 3",
   "language": "python",
   "name": "python3"
  },
  "language_info": {
   "codemirror_mode": {
    "name": "ipython",
    "version": 3
   },
   "file_extension": ".py",
   "mimetype": "text/x-python",
   "name": "python",
   "nbconvert_exporter": "python",
   "pygments_lexer": "ipython3",
   "version": "3.8.5"
  }
 },
 "nbformat": 4,
 "nbformat_minor": 5
}
